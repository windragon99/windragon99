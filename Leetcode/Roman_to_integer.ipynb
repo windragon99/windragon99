{
 "cells": [
  {
   "cell_type": "code",
   "execution_count": 67,
   "id": "d2db0aa0",
   "metadata": {},
   "outputs": [],
   "source": [
    "class Solution:\n",
    "    def __init__(self):\n",
    "        self.s=''\n",
    "        \n",
    "    def romanToInt(self, s: str) -> int:\n",
    "        dct={'I':1,'V':5,'X':10,'L':50,'C':100,'D':500,'M':1000}\n",
    "        number=0\n",
    "        i=0\n",
    "        while(i+1<len(s)):\n",
    "            if dct[s[i]]>=dct[s[i+1]]:\n",
    "                number+=dct[s[i]]\n",
    "                i+=1\n",
    "            else:\n",
    "                number+=dct[s[i+1]]-dct[s[i]]\n",
    "                i+=2\n",
    "        if i==len(s)-1:\n",
    "            number+=dct[s[i]]\n",
    "        return number"
   ]
  },
  {
   "cell_type": "code",
   "execution_count": 68,
   "id": "8b2b751e",
   "metadata": {},
   "outputs": [],
   "source": [
    "sol=Solution()"
   ]
  },
  {
   "cell_type": "code",
   "execution_count": 69,
   "id": "d4d5671a",
   "metadata": {},
   "outputs": [
    {
     "data": {
      "text/plain": [
       "3"
      ]
     },
     "execution_count": 69,
     "metadata": {},
     "output_type": "execute_result"
    }
   ],
   "source": [
    "sol.romanToInt('III')"
   ]
  },
  {
   "cell_type": "code",
   "execution_count": 70,
   "id": "5f3b81b0",
   "metadata": {},
   "outputs": [
    {
     "data": {
      "text/plain": [
       "58"
      ]
     },
     "execution_count": 70,
     "metadata": {},
     "output_type": "execute_result"
    }
   ],
   "source": [
    "sol.romanToInt('LVIII')"
   ]
  },
  {
   "cell_type": "code",
   "execution_count": 71,
   "id": "449b572b",
   "metadata": {},
   "outputs": [
    {
     "data": {
      "text/plain": [
       "1994"
      ]
     },
     "execution_count": 71,
     "metadata": {},
     "output_type": "execute_result"
    }
   ],
   "source": [
    "sol.romanToInt('MCMXCIV')"
   ]
  },
  {
   "cell_type": "code",
   "execution_count": null,
   "id": "23c6ae51",
   "metadata": {},
   "outputs": [],
   "source": []
  }
 ],
 "metadata": {
  "kernelspec": {
   "display_name": "Python 3 (ipykernel)",
   "language": "python",
   "name": "python3"
  },
  "language_info": {
   "codemirror_mode": {
    "name": "ipython",
    "version": 3
   },
   "file_extension": ".py",
   "mimetype": "text/x-python",
   "name": "python",
   "nbconvert_exporter": "python",
   "pygments_lexer": "ipython3",
   "version": "3.9.7"
  }
 },
 "nbformat": 4,
 "nbformat_minor": 5
}
